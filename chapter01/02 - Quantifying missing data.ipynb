{
 "cells": [
  {
   "cell_type": "markdown",
   "id": "9f593f35",
   "metadata": {},
   "source": [
    "## Quantifying missing data"
   ]
  },
  {
   "cell_type": "markdown",
   "id": "fb36fccd",
   "metadata": {},
   "source": [
    "Missing data refers to the absence of a value for observations and is a common occurrence\n",
    "in most datasets. Scikit-learn, the open source Python library for machine learning, does not\n",
    "support missing values as input for machine learning models, so we need to convert these\n",
    "values into numbers. To select the missing data imputation technique, it is important to\n",
    "know about the amount of missing information in our variables. In this recipe, we will\n",
    "learn how to identify and quantify missing data using pandas and how to make plots with\n",
    "the percentages of missing data per variable"
   ]
  },
  {
   "cell_type": "code",
   "execution_count": 1,
   "id": "4a98a91f",
   "metadata": {},
   "outputs": [],
   "source": [
    "# import the required python libraries\n",
    "import pandas as pd\n",
    "import matplotlib.pyplot as plt\n",
    "import seaborn as sns\n",
    "\n",
    "# to display total no of columns present in dataset\n",
    "pd.set_option('display.max_columns',None)"
   ]
  },
  {
   "cell_type": "code",
   "execution_count": 3,
   "id": "99ae36bf",
   "metadata": {},
   "outputs": [
    {
     "data": {
      "text/html": [
       "<div>\n",
       "<style scoped>\n",
       "    .dataframe tbody tr th:only-of-type {\n",
       "        vertical-align: middle;\n",
       "    }\n",
       "\n",
       "    .dataframe tbody tr th {\n",
       "        vertical-align: top;\n",
       "    }\n",
       "\n",
       "    .dataframe thead th {\n",
       "        text-align: right;\n",
       "    }\n",
       "</style>\n",
       "<table border=\"1\" class=\"dataframe\">\n",
       "  <thead>\n",
       "    <tr style=\"text-align: right;\">\n",
       "      <th></th>\n",
       "      <th>AGE</th>\n",
       "      <th>NUMCHLD</th>\n",
       "      <th>INCOME</th>\n",
       "      <th>WEALTH1</th>\n",
       "      <th>MBCRAFT</th>\n",
       "      <th>MBGARDEN</th>\n",
       "      <th>MBBOOKS</th>\n",
       "      <th>MBCOLECT</th>\n",
       "      <th>MAGFAML</th>\n",
       "      <th>MAGFEM</th>\n",
       "      <th>MAGMALE</th>\n",
       "    </tr>\n",
       "  </thead>\n",
       "  <tbody>\n",
       "    <tr>\n",
       "      <th>0</th>\n",
       "      <td>60.0</td>\n",
       "      <td>NaN</td>\n",
       "      <td>NaN</td>\n",
       "      <td>NaN</td>\n",
       "      <td>NaN</td>\n",
       "      <td>NaN</td>\n",
       "      <td>NaN</td>\n",
       "      <td>NaN</td>\n",
       "      <td>NaN</td>\n",
       "      <td>NaN</td>\n",
       "      <td>NaN</td>\n",
       "    </tr>\n",
       "    <tr>\n",
       "      <th>1</th>\n",
       "      <td>46.0</td>\n",
       "      <td>1.0</td>\n",
       "      <td>6.0</td>\n",
       "      <td>9.0</td>\n",
       "      <td>0.0</td>\n",
       "      <td>0.0</td>\n",
       "      <td>3.0</td>\n",
       "      <td>1.0</td>\n",
       "      <td>1.0</td>\n",
       "      <td>1.0</td>\n",
       "      <td>0.0</td>\n",
       "    </tr>\n",
       "    <tr>\n",
       "      <th>2</th>\n",
       "      <td>NaN</td>\n",
       "      <td>NaN</td>\n",
       "      <td>3.0</td>\n",
       "      <td>1.0</td>\n",
       "      <td>0.0</td>\n",
       "      <td>0.0</td>\n",
       "      <td>1.0</td>\n",
       "      <td>0.0</td>\n",
       "      <td>0.0</td>\n",
       "      <td>0.0</td>\n",
       "      <td>0.0</td>\n",
       "    </tr>\n",
       "    <tr>\n",
       "      <th>3</th>\n",
       "      <td>70.0</td>\n",
       "      <td>NaN</td>\n",
       "      <td>1.0</td>\n",
       "      <td>4.0</td>\n",
       "      <td>0.0</td>\n",
       "      <td>0.0</td>\n",
       "      <td>0.0</td>\n",
       "      <td>0.0</td>\n",
       "      <td>0.0</td>\n",
       "      <td>0.0</td>\n",
       "      <td>0.0</td>\n",
       "    </tr>\n",
       "    <tr>\n",
       "      <th>4</th>\n",
       "      <td>78.0</td>\n",
       "      <td>1.0</td>\n",
       "      <td>3.0</td>\n",
       "      <td>2.0</td>\n",
       "      <td>1.0</td>\n",
       "      <td>0.0</td>\n",
       "      <td>9.0</td>\n",
       "      <td>0.0</td>\n",
       "      <td>4.0</td>\n",
       "      <td>1.0</td>\n",
       "      <td>0.0</td>\n",
       "    </tr>\n",
       "  </tbody>\n",
       "</table>\n",
       "</div>"
      ],
      "text/plain": [
       "    AGE  NUMCHLD  INCOME  WEALTH1  MBCRAFT  MBGARDEN  MBBOOKS  MBCOLECT  \\\n",
       "0  60.0      NaN     NaN      NaN      NaN       NaN      NaN       NaN   \n",
       "1  46.0      1.0     6.0      9.0      0.0       0.0      3.0       1.0   \n",
       "2   NaN      NaN     3.0      1.0      0.0       0.0      1.0       0.0   \n",
       "3  70.0      NaN     1.0      4.0      0.0       0.0      0.0       0.0   \n",
       "4  78.0      1.0     3.0      2.0      1.0       0.0      9.0       0.0   \n",
       "\n",
       "   MAGFAML  MAGFEM  MAGMALE  \n",
       "0      NaN     NaN      NaN  \n",
       "1      1.0     1.0      0.0  \n",
       "2      0.0     0.0      0.0  \n",
       "3      0.0     0.0      0.0  \n",
       "4      4.0     1.0      0.0  "
      ]
     },
     "execution_count": 3,
     "metadata": {},
     "output_type": "execute_result"
    }
   ],
   "source": [
    "# we will use the selected variables from a dataset\n",
    "cols = [\n",
    "    'AGE',\n",
    "    'NUMCHLD',\n",
    "    'INCOME',\n",
    "    'WEALTH1',\n",
    "    'MBCRAFT',\n",
    "    'MBGARDEN',\n",
    "    'MBBOOKS',\n",
    "    'MBCOLECT',\n",
    "    'MAGFAML',\n",
    "    'MAGFEM',\n",
    "    'MAGMALE',\n",
    "]\n",
    "\n",
    "data = pd.read_csv('data/cup98LRN.txt',usecols=cols)\n",
    "data.head()"
   ]
  },
  {
   "cell_type": "code",
   "execution_count": 4,
   "id": "a12c48f0",
   "metadata": {},
   "outputs": [
    {
     "data": {
      "text/plain": [
       "AGE         23665\n",
       "NUMCHLD     83026\n",
       "INCOME      21286\n",
       "WEALTH1     44732\n",
       "MBCRAFT     52854\n",
       "MBGARDEN    52854\n",
       "MBBOOKS     52854\n",
       "MBCOLECT    52914\n",
       "MAGFAML     52854\n",
       "MAGFEM      52854\n",
       "MAGMALE     52854\n",
       "dtype: int64"
      ]
     },
     "execution_count": 4,
     "metadata": {},
     "output_type": "execute_result"
    }
   ],
   "source": [
    "# let's calculate the missing values in each column or variable\n",
    "\n",
    "data.isnull().sum()"
   ]
  },
  {
   "cell_type": "code",
   "execution_count": 5,
   "id": "a8d26a49",
   "metadata": {},
   "outputs": [
    {
     "data": {
      "text/plain": [
       "AGE         0.248030\n",
       "NUMCHLD     0.870184\n",
       "INCOME      0.223096\n",
       "WEALTH1     0.468830\n",
       "MBCRAFT     0.553955\n",
       "MBGARDEN    0.553955\n",
       "MBBOOKS     0.553955\n",
       "MBCOLECT    0.554584\n",
       "MAGFAML     0.553955\n",
       "MAGFEM      0.553955\n",
       "MAGMALE     0.553955\n",
       "dtype: float64"
      ]
     },
     "execution_count": 5,
     "metadata": {},
     "output_type": "execute_result"
    }
   ],
   "source": [
    "# let's quantify the percentage of missing values in each  variable\n",
    "data.isnull().mean()"
   ]
  },
  {
   "cell_type": "code",
   "execution_count": 6,
   "id": "5e90aa4a",
   "metadata": {},
   "outputs": [
    {
     "data": {
      "text/plain": [
       "Text(0.5, 1.0, 'Quantifying the missing data')"
      ]
     },
     "execution_count": 6,
     "metadata": {},
     "output_type": "execute_result"
    },
    {
     "data": {
      "image/png": "[encoded data removed]",
      "text/plain": [
       "<Figure size 864x576 with 1 Axes>"
      ]
     },
     "metadata": {
      "needs_background": "light"
     },
     "output_type": "display_data"
    }
   ],
   "source": [
    "# we can also plot the missing values \n",
    "data.isnull().mean().plot.bar(figsize=(12,8))\n",
    "plt.ylabel('Percentage of missing values')\n",
    "plt.xlabel('features')\n",
    "plt.title('Quantifying the missing data')"
   ]
  },
  {
   "cell_type": "markdown",
   "id": "07774628",
   "metadata": {},
   "source": [
    "**`Tip:`** We can change the figure size using the figsize argument within pandas\n",
    "**plot.bar()** and we can add x and y labels and a title with the\n",
    "**plt.xlabel()** , **plt.ylabel()** , and **plt.title()** methods from\n",
    "Matplotlib to enhance the aesthetics of the plot."
   ]
  },
  {
   "cell_type": "code",
   "execution_count": 12,
   "id": "627d50e1",
   "metadata": {},
   "outputs": [
    {
     "data": {
      "text/plain": [
       "<AxesSubplot:>"
      ]
     },
     "execution_count": 12,
     "metadata": {},
     "output_type": "execute_result"
    },
    {
     "data": {
      "image/png": "[encoded data removed]",
      "text/plain": [
       "<Figure size 864x576 with 2 Axes>"
      ]
     },
     "metadata": {
      "needs_background": "light"
     },
     "output_type": "display_data"
    }
   ],
   "source": [
    "# we can aslo observe the missing values with the help of heat map\n",
    "plt.figure(figsize=(12,8))\n",
    "sns.heatmap(data.isnull(),cmap=\"YlGnBu\")"
   ]
  },
  {
   "cell_type": "markdown",
   "id": "4e5861fa",
   "metadata": {},
   "source": [
    "**`Observation:`** You can observe the missing values in blue color representation."
   ]
  },
  {
   "cell_type": "code",
   "execution_count": null,
   "id": "39cc86d7",
   "metadata": {},
   "outputs": [],
   "source": []
  }
 ],
 "metadata": {
  "kernelspec": {
   "display_name": "Python 3",
   "language": "python",
   "name": "python3"
  },
  "language_info": {
   "codemirror_mode": {
    "name": "ipython",
    "version": 3
   },
   "file_extension": ".py",
   "mimetype": "text/x-python",
   "name": "python",
   "nbconvert_exporter": "python",
   "pygments_lexer": "ipython3",
   "version": "3.8.8"
  }
 },
 "nbformat": 4,
 "nbformat_minor": 5
}
