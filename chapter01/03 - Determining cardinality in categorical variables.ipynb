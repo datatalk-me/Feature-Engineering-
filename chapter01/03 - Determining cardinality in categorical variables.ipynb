{
 "cells": [
  {
   "cell_type": "markdown",
   "id": "d4f596c4",
   "metadata": {},
   "source": [
    "## Determining cardinality in categorical variables"
   ]
  },
  {
   "cell_type": "markdown",
   "id": "d8027365",
   "metadata": {},
   "source": [
    "The number of unique categories in a variable is called cardinality. For example, the\n",
    "cardinality of the **Gender variable**, which takes values of **female and male** , is 2 , whereas\n",
    "the cardinality of the **Civil status variable**, which takes values of **married , divorced ,\n",
    "singled , and widowed** , is 4.Here we will learn how to quantify and create plots\n",
    "of the cardinality of categorical variables using pandas, Matplotlib and seaborn."
   ]
  },
  {
   "cell_type": "code",
   "execution_count": 1,
   "id": "5d964472",
   "metadata": {},
   "outputs": [],
   "source": [
    "# Import the required Python libraries\n",
    "\n",
    "import pandas as pd\n",
    "import matplotlib.pyplot as plt\n",
    "import numpy as np\n",
    "import seaborn as sns"
   ]
  },
  {
   "cell_type": "code",
   "execution_count": 4,
   "id": "bde3064c",
   "metadata": {},
   "outputs": [
    {
     "data": {
      "text/html": [
       "<div>\n",
       "<style scoped>\n",
       "    .dataframe tbody tr th:only-of-type {\n",
       "        vertical-align: middle;\n",
       "    }\n",
       "\n",
       "    .dataframe tbody tr th {\n",
       "        vertical-align: top;\n",
       "    }\n",
       "\n",
       "    .dataframe thead th {\n",
       "        text-align: right;\n",
       "    }\n",
       "</style>\n",
       "<table border=\"1\" class=\"dataframe\">\n",
       "  <thead>\n",
       "    <tr style=\"text-align: right;\">\n",
       "      <th></th>\n",
       "      <th>DOMAIN</th>\n",
       "      <th>GENDER</th>\n",
       "      <th>RFA_2</th>\n",
       "      <th>RFA_15</th>\n",
       "      <th>MDMAUD_A</th>\n",
       "    </tr>\n",
       "  </thead>\n",
       "  <tbody>\n",
       "    <tr>\n",
       "      <th>0</th>\n",
       "      <td>T2</td>\n",
       "      <td>F</td>\n",
       "      <td>L4E</td>\n",
       "      <td>S4E</td>\n",
       "      <td>X</td>\n",
       "    </tr>\n",
       "    <tr>\n",
       "      <th>1</th>\n",
       "      <td>S1</td>\n",
       "      <td>M</td>\n",
       "      <td>L2G</td>\n",
       "      <td>NaN</td>\n",
       "      <td>X</td>\n",
       "    </tr>\n",
       "    <tr>\n",
       "      <th>2</th>\n",
       "      <td>R2</td>\n",
       "      <td>M</td>\n",
       "      <td>L4E</td>\n",
       "      <td>S4F</td>\n",
       "      <td>X</td>\n",
       "    </tr>\n",
       "    <tr>\n",
       "      <th>3</th>\n",
       "      <td>R2</td>\n",
       "      <td>F</td>\n",
       "      <td>L4E</td>\n",
       "      <td>S4E</td>\n",
       "      <td>X</td>\n",
       "    </tr>\n",
       "    <tr>\n",
       "      <th>4</th>\n",
       "      <td>S2</td>\n",
       "      <td>F</td>\n",
       "      <td>L2F</td>\n",
       "      <td>NaN</td>\n",
       "      <td>X</td>\n",
       "    </tr>\n",
       "  </tbody>\n",
       "</table>\n",
       "</div>"
      ],
      "text/plain": [
       "  DOMAIN GENDER RFA_2 RFA_15 MDMAUD_A\n",
       "0     T2      F   L4E    S4E        X\n",
       "1     S1      M   L2G    NaN        X\n",
       "2     R2      M   L4E    S4F        X\n",
       "3     R2      F   L4E    S4E        X\n",
       "4     S2      F   L2F    NaN        X"
      ]
     },
     "execution_count": 4,
     "metadata": {},
     "output_type": "execute_result"
    }
   ],
   "source": [
    "# we will use the selected variables for the recipe\n",
    "cols = ['GENDER', 'RFA_2', 'MDMAUD_A', 'RFA_2', 'DOMAIN', 'RFA_15']\n",
    "\n",
    "# load the dataset\n",
    "data = pd.read_csv('data/cup98LRN.txt',usecols=cols)\n",
    "\n",
    "# the dataset contains empty stings \n",
    "# which are in essence missing values\n",
    "# i replace these here\n",
    "data = data.replace(' ', np.nan)\n",
    "\n",
    "# let's inspect the first 5 rows\n",
    "data.head()"
   ]
  },
  {
   "cell_type": "code",
   "execution_count": 5,
   "id": "1c370ab2",
   "metadata": {},
   "outputs": [
    {
     "data": {
      "text/plain": [
       "DOMAIN      16\n",
       "GENDER       6\n",
       "RFA_2       14\n",
       "RFA_15      33\n",
       "MDMAUD_A     5\n",
       "dtype: int64"
      ]
     },
     "execution_count": 5,
     "metadata": {},
     "output_type": "execute_result"
    }
   ],
   "source": [
    "# let's determine the number of unique categories in each variable\n",
    "data.nunique()"
   ]
  },
  {
   "cell_type": "markdown",
   "id": "992291f8",
   "metadata": {},
   "source": [
    "**`TIP:`** The nunique() method ignores missing values by default. If we want to\n",
    "consider missing values as an additional category, we should set the\n",
    "dropna argument to False: **data.nunique(dropna=False)**."
   ]
  },
  {
   "cell_type": "code",
   "execution_count": 6,
   "id": "5d5e6b91",
   "metadata": {},
   "outputs": [
    {
     "data": {
      "text/plain": [
       "DOMAIN      17\n",
       "GENDER       7\n",
       "RFA_2       14\n",
       "RFA_15      34\n",
       "MDMAUD_A     5\n",
       "dtype: int64"
      ]
     },
     "execution_count": 6,
     "metadata": {},
     "output_type": "execute_result"
    }
   ],
   "source": [
    "data.nunique(dropna=False)"
   ]
  },
  {
   "cell_type": "code",
   "execution_count": 7,
   "id": "7c541fb6",
   "metadata": {},
   "outputs": [
    {
     "data": {
      "text/plain": [
       "array(['F', 'M', nan, 'C', 'U', 'J', 'A'], dtype=object)"
      ]
     },
     "execution_count": 7,
     "metadata": {},
     "output_type": "execute_result"
    }
   ],
   "source": [
    "# let's print the different unique labels\n",
    "data['GENDER'].unique()"
   ]
  },
  {
   "cell_type": "markdown",
   "id": "2fd147d4",
   "metadata": {},
   "source": [
    "pandas **nunique()** can be used in the entire dataframe. pandas\n",
    "**unique()** , on the other hand, works only on a pandas Series. Thus, we\n",
    "need to specify the column name that we want to return the unique values for."
   ]
  },
  {
   "cell_type": "code",
   "execution_count": 8,
   "id": "4ddd5b56",
   "metadata": {},
   "outputs": [
    {
     "data": {
      "text/plain": [
       "Text(0.5, 1.0, 'Cardinality')"
      ]
     },
     "execution_count": 8,
     "metadata": {},
     "output_type": "execute_result"
    },
    {
     "data": {
      "image/png": "[encoded data removed]",
      "text/plain": [
       "<Figure size 864x432 with 1 Axes>"
      ]
     },
     "metadata": {
      "needs_background": "light"
     },
     "output_type": "display_data"
    }
   ],
   "source": [
    "# let's plot the cardinality of the variables \n",
    "\n",
    "data.nunique().plot.bar(figsize=(12,6))\n",
    "\n",
    "# add labels and title\n",
    "plt.ylabel('Number of unique categories')\n",
    "plt.xlabel('Variables')\n",
    "plt.title('Cardinality')"
   ]
  },
  {
   "cell_type": "code",
   "execution_count": 9,
   "id": "4750da25",
   "metadata": {},
   "outputs": [
    {
     "data": {
      "text/plain": [
       "RFA_2       14\n",
       "MDMAUD_A     5\n",
       "RFA_2       14\n",
       "dtype: int64"
      ]
     },
     "execution_count": 9,
     "metadata": {},
     "output_type": "execute_result"
    }
   ],
   "source": [
    "# if we want to evaluate the cardinality of only a subset \n",
    "# of columns from a data set, we can do so by passing the\n",
    "# columns of interest as follows:\n",
    "\n",
    "# evaluate cardinality of variables of choice\n",
    "data[['RFA_2', 'MDMAUD_A', 'RFA_2']].nunique()"
   ]
  },
  {
   "cell_type": "code",
   "execution_count": null,
   "id": "faf1afaf",
   "metadata": {},
   "outputs": [],
   "source": []
  }
 ],
 "metadata": {
  "kernelspec": {
   "display_name": "Python 3",
   "language": "python",
   "name": "python3"
  },
  "language_info": {
   "codemirror_mode": {
    "name": "ipython",
    "version": 3
   },
   "file_extension": ".py",
   "mimetype": "text/x-python",
   "name": "python",
   "nbconvert_exporter": "python",
   "pygments_lexer": "ipython3",
   "version": "3.8.8"
  }
 },
 "nbformat": 4,
 "nbformat_minor": 5
}
