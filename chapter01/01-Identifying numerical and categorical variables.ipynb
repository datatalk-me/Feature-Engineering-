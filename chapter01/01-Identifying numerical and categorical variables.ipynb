{
 "cells": [
  {
   "cell_type": "markdown",
   "id": "6afd5acb",
   "metadata": {},
   "source": [
    "## Identifying numerical and categorical variables"
   ]
  },
  {
   "cell_type": "markdown",
   "id": "ddeccaae",
   "metadata": {},
   "source": [
    " **`Numerical variables`** can be discrete or continuous."
   ]
  },
  {
   "cell_type": "markdown",
   "id": "90c7f3cc",
   "metadata": {},
   "source": [
    "### Numerical Variables\n",
    "    \n",
    "   **`Discrete variables`** are those where the pool of possible values is finite and are generally whole numbers such as 1, 2, and 3.\n",
    "   \n",
    "   **`Examples for Discreate Variables:`** number of children, number of pets, or the number of bank accounts.\n",
    "   \n",
    "   **`Continuous variables`** are those whose values may take any number within a range.\n",
    "   \n",
    "   **`Examples for Continuous Variables:`** the price of a product,income, house price, or interest rate."
   ]
  },
  {
   "cell_type": "markdown",
   "id": "c2e990d4",
   "metadata": {},
   "source": [
    "###  Categorical variables \n",
    "\n",
    "**`Categorical Variables`** are values that are selected from a group of categories, also called labels.\n",
    "\n",
    "**`Examples of Categorical Variables:`** gender,\n",
    "which takes values of male and female, or country of birth, which takes values\n",
    "of Argentina, Germany, and so on."
   ]
  },
  {
   "cell_type": "code",
   "execution_count": 21,
   "id": "52e17b58",
   "metadata": {},
   "outputs": [],
   "source": [
    "# Load the libraries that are required\n",
    "import pandas as pd\n",
    "import matplotlib.pyplot as plt"
   ]
  },
  {
   "cell_type": "code",
   "execution_count": 22,
   "id": "82b5fba8",
   "metadata": {},
   "outputs": [
    {
     "data": {
      "text/plain": [
       "PassengerId      int64\n",
       "Survived         int64\n",
       "Pclass           int64\n",
       "Name            object\n",
       "Sex             object\n",
       "Age            float64\n",
       "SibSp            int64\n",
       "Parch            int64\n",
       "Ticket          object\n",
       "Fare           float64\n",
       "Cabin           object\n",
       "Embarked        object\n",
       "dtype: object"
      ]
     },
     "execution_count": 22,
     "metadata": {},
     "output_type": "execute_result"
    }
   ],
   "source": [
    "# Load the titanic dataset and inspect the variables.\n",
    "data = pd.read_csv('data/titanic.csv')\n",
    "data.dtypes"
   ]
  },
  {
   "cell_type": "markdown",
   "id": "e2dc4d42",
   "metadata": {},
   "source": [
    "**`Note:`** Discrete variables are usually of the **int** type, continuous variables are usually of the\n",
    "**float** type, and categorical variables are usually of the **object** type when they're stored in\n",
    "pandas.\n",
    "\n",
    "**` observations:`** Here we can observe PassengerId,Survived,Pclass,SibSp,Parch are **Int type** then Name,Sex,Ticket,Cabin,Embarked are of **object type** and Age,Fare are of **Float type**."
   ]
  },
  {
   "cell_type": "markdown",
   "id": "6bc3042e",
   "metadata": {},
   "source": [
    "**`Tip:`** In many datasets, integer variables are cast as float . So, after inspecting\n",
    "the data type of the variable, even if you get float as output, go ahead\n",
    "and check the unique values to make sure that those variables are discrete\n",
    "and not continuous."
   ]
  },
  {
   "cell_type": "code",
   "execution_count": 23,
   "id": "9dc410ec",
   "metadata": {},
   "outputs": [
    {
     "data": {
      "text/plain": [
       "array([1, 0, 3, 4, 2, 5, 8])"
      ]
     },
     "execution_count": 23,
     "metadata": {},
     "output_type": "execute_result"
    }
   ],
   "source": [
    "# Inspect the distinct values of the sibsp discrete variable\n",
    "data['SibSp'].unique()"
   ]
  },
  {
   "cell_type": "code",
   "execution_count": 24,
   "id": "6be169c9",
   "metadata": {},
   "outputs": [
    {
     "data": {
      "text/plain": [
       "array([ 7.25  , 71.2833,  7.925 , 53.1   ,  8.05  ,  8.4583, 51.8625,\n",
       "       21.075 , 11.1333, 30.0708, 16.7   , 26.55  , 31.275 ,  7.8542,\n",
       "       16.    , 29.125 , 13.    , 18.    ,  7.225 , 26.    ])"
      ]
     },
     "execution_count": 24,
     "metadata": {},
     "output_type": "execute_result"
    }
   ],
   "source": [
    "# Now, let's inspect the first 20 distinct values of the continuous variable fare\n",
    "data['Fare'].unique()[:20]"
   ]
  },
  {
   "cell_type": "code",
   "execution_count": 25,
   "id": "93e5259e",
   "metadata": {},
   "outputs": [
    {
     "data": {
      "text/plain": [
       "array(['S', 'C', 'Q', nan], dtype=object)"
      ]
     },
     "execution_count": 25,
     "metadata": {},
     "output_type": "execute_result"
    }
   ],
   "source": [
    "# inspect the Unique values of Embarked feature - Categorical Variable\n",
    "data['Embarked'].unique()"
   ]
  },
  {
   "cell_type": "code",
   "execution_count": 26,
   "id": "01f66478",
   "metadata": {},
   "outputs": [
    {
     "data": {
      "text/plain": [
       "array([nan, 'C85', 'C123', 'E46', 'G6', 'C103', 'D56', 'A6',\n",
       "       'C23 C25 C27', 'B78', 'D33', 'B30', 'C52', 'B28', 'C83', 'F33',\n",
       "       'F G73', 'E31', 'A5', 'D10 D12', 'D26', 'C110', 'B58 B60', 'E101',\n",
       "       'F E69', 'D47', 'B86', 'F2', 'C2', 'E33', 'B19', 'A7', 'C49', 'F4',\n",
       "       'A32', 'B4', 'B80', 'A31', 'D36', 'D15', 'C93', 'C78', 'D35',\n",
       "       'C87', 'B77', 'E67', 'B94', 'C125', 'C99', 'C118', 'D7', 'A19',\n",
       "       'B49', 'D', 'C22 C26', 'C106', 'C65', 'E36', 'C54',\n",
       "       'B57 B59 B63 B66', 'C7', 'E34', 'C32', 'B18', 'C124', 'C91', 'E40',\n",
       "       'T', 'C128', 'D37', 'B35', 'E50', 'C82', 'B96 B98', 'E10', 'E44',\n",
       "       'A34', 'C104', 'C111', 'C92', 'E38', 'D21', 'E12', 'E63', 'A14',\n",
       "       'B37', 'C30', 'D20', 'B79', 'E25', 'D46', 'B73', 'C95', 'B38',\n",
       "       'B39', 'B22', 'C86', 'C70', 'A16', 'C101', 'C68', 'A10', 'E68',\n",
       "       'B41', 'A20', 'D19', 'D50', 'D9', 'A23', 'B50', 'A26', 'D48',\n",
       "       'E58', 'C126', 'B71', 'B51 B53 B55', 'D49', 'B5', 'B20', 'F G63',\n",
       "       'C62 C64', 'E24', 'C90', 'C45', 'E8', 'B101', 'D45', 'C46', 'D30',\n",
       "       'E121', 'D11', 'E77', 'F38', 'B3', 'D6', 'B82 B84', 'D17', 'A36',\n",
       "       'B102', 'B69', 'E49', 'C47', 'D28', 'E17', 'A24', 'C50', 'B42',\n",
       "       'C148'], dtype=object)"
      ]
     },
     "execution_count": 26,
     "metadata": {},
     "output_type": "execute_result"
    }
   ],
   "source": [
    "# inspect the Unique values of Cabin feature - Mixed Variable\n",
    "data['Cabin'].unique()"
   ]
  },
  {
   "cell_type": "markdown",
   "id": "0b4ea17e",
   "metadata": {},
   "source": [
    "**`Note:`** The embarked variable contains strings as values, which means it's\n",
    "categorical, whereas cabin contains a mix of letters and numbers, which\n",
    "means it can be classified as a mixed type of variable."
   ]
  },
  {
   "cell_type": "markdown",
   "id": "3c7737a5",
   "metadata": {},
   "source": [
    "### Visualizations"
   ]
  },
  {
   "cell_type": "code",
   "execution_count": 27,
   "id": "590ba87a",
   "metadata": {},
   "outputs": [
    {
     "data": {
      "text/plain": [
       "<AxesSubplot:>"
      ]
     },
     "execution_count": 27,
     "metadata": {},
     "output_type": "execute_result"
    },
    {
     "data": {
      "image/png": "[encoded data removed]",
      "text/plain": [
       "<Figure size 432x288 with 1 Axes>"
      ]
     },
     "metadata": {
      "needs_background": "light"
     },
     "output_type": "display_data"
    }
   ],
   "source": [
    "# Let's make a histogram for the sibsp variable by dividing the variable value range into 20 intervals\n",
    "\n",
    "data['SibSp'].hist(bins=20)"
   ]
  },
  {
   "cell_type": "code",
   "execution_count": 28,
   "id": "2e35da0f",
   "metadata": {},
   "outputs": [
    {
     "data": {
      "text/plain": [
       "<AxesSubplot:xlabel='SibSp', ylabel='Count'>"
      ]
     },
     "execution_count": 28,
     "metadata": {},
     "output_type": "execute_result"
    },
    {
     "data": {
      "image/png": "[encoded data removed]",
      "text/plain": [
       "<Figure size 432x288 with 1 Axes>"
      ]
     },
     "metadata": {
      "needs_background": "light"
     },
     "output_type": "display_data"
    }
   ],
   "source": [
    "# we can also plot this using seaborn\n",
    "import seaborn as sns\n",
    "sns.histplot(data['SibSp'])"
   ]
  },
  {
   "cell_type": "code",
   "execution_count": 29,
   "id": "d2f13427",
   "metadata": {},
   "outputs": [
    {
     "data": {
      "text/plain": [
       "<AxesSubplot:>"
      ]
     },
     "execution_count": 29,
     "metadata": {},
     "output_type": "execute_result"
    },
    {
     "data": {
      "image/png": "[encoded data removed]",
      "text/plain": [
       "<Figure size 432x288 with 1 Axes>"
      ]
     },
     "metadata": {
      "needs_background": "light"
     },
     "output_type": "display_data"
    }
   ],
   "source": [
    "# let's make a histogram of the fare variable by sorting the values into 50 contiguous intervals\n",
    "\n",
    "data['Fare'].hist(bins=50)"
   ]
  },
  {
   "cell_type": "code",
   "execution_count": 30,
   "id": "b8d59074",
   "metadata": {},
   "outputs": [
    {
     "data": {
      "text/plain": [
       "<AxesSubplot:xlabel='Fare', ylabel='Count'>"
      ]
     },
     "execution_count": 30,
     "metadata": {},
     "output_type": "execute_result"
    },
    {
     "data": {
      "image/png": "[encoded data removed]",
      "text/plain": [
       "<Figure size 432x288 with 1 Axes>"
      ]
     },
     "metadata": {
      "needs_background": "light"
     },
     "output_type": "display_data"
    }
   ],
   "source": [
    "# by using seaborn\n",
    "sns.histplot(data['Fare'])"
   ]
  },
  {
   "cell_type": "markdown",
   "id": "5290b99d",
   "metadata": {},
   "source": [
    "**`Note:`** The histogram of continuous variables shows values throughout the variable value range."
   ]
  },
  {
   "cell_type": "code",
   "execution_count": 31,
   "id": "fb3034e3",
   "metadata": {},
   "outputs": [
    {
     "data": {
      "text/plain": [
       "Text(0.5, 1.0, 'embakred - port')"
      ]
     },
     "execution_count": 31,
     "metadata": {},
     "output_type": "execute_result"
    },
    {
     "data": {
      "image/png": "[encoded data removed]",
      "text/plain": [
       "<Figure size 432x288 with 1 Axes>"
      ]
     },
     "metadata": {
      "needs_background": "light"
     },
     "output_type": "display_data"
    }
   ],
   "source": [
    "# bar plots for categorical Variable\n",
    "data['Embarked'].value_counts().plot.bar()\n",
    "plt.xticks(rotation=0)\n",
    "plt.ylabel('Number of passengers')\n",
    "plt.title('embakred - port')"
   ]
  },
  {
   "cell_type": "code",
   "execution_count": null,
   "id": "07ade65c",
   "metadata": {},
   "outputs": [],
   "source": []
  }
 ],
 "metadata": {
  "kernelspec": {
   "display_name": "Python 3",
   "language": "python",
   "name": "python3"
  },
  "language_info": {
   "codemirror_mode": {
    "name": "ipython",
    "version": 3
   },
   "file_extension": ".py",
   "mimetype": "text/x-python",
   "name": "python",
   "nbconvert_exporter": "python",
   "pygments_lexer": "ipython3",
   "version": "3.8.8"
  }
 },
 "nbformat": 4,
 "nbformat_minor": 5
}
