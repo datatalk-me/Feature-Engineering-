{
 "cells": [
  {
   "cell_type": "markdown",
   "id": "2d381680",
   "metadata": {},
   "source": [
    "## Identifying a linear relationship"
   ]
  },
  {
   "cell_type": "markdown",
   "id": "432e1480",
   "metadata": {},
   "source": [
    "Linear models assume that the independent variables, X, take a linear relationship with the\n",
    "dependent variable, Y. This relationship can be dictated by the following equation:"
   ]
  },
  {
   "cell_type": "markdown",
   "id": "49a75f82",
   "metadata": {},
   "source": [
    "### Y = m1.X1 + m2.X2 + m3.X3 + ... + c"
   ]
  },
  {
   "cell_type": "markdown",
   "id": "c2e87170",
   "metadata": {},
   "source": [
    "Here, X specifies the independent variables and m are the coefficients that indicate a unit\n",
    "change in Y per unit change in X. Failure to meet this assumption may result in poor model\n",
    "performance."
   ]
  },
  {
   "cell_type": "markdown",
   "id": "7e8a6804",
   "metadata": {},
   "source": [
    "Linear relationships can be evaluated by scatter plots and residual plots. Scatter plots\n",
    "output the relationship of the independent variable X and the target Y. Residuals are the\n",
    "difference between the linear estimation of Y using X and the real target:"
   ]
  },
  {
   "cell_type": "markdown",
   "id": "c844b57d",
   "metadata": {},
   "source": [
    "If the relationship is linear, the residuals should follow a normal distribution centered at\n",
    "zero, while the values should vary homogeneously along the values of the independent\n",
    "variable. here we will evaluate the linear relationship using both scatter and\n",
    "residual plots in a toy dataset."
   ]
  },
  {
   "cell_type": "code",
   "execution_count": 1,
   "id": "1063e421",
   "metadata": {},
   "outputs": [],
   "source": [
    "# Import the required Python libraries and a linear regression class\n",
    "import pandas as pd\n",
    "import numpy as np\n",
    "import matplotlib.pyplot as plt\n",
    "import seaborn as sns\n",
    "import warnings\n",
    "warnings.filterwarnings(\"ignore\")"
   ]
  },
  {
   "cell_type": "markdown",
   "id": "59a5ed24",
   "metadata": {},
   "source": [
    "To proceed with this recipe, let's create a toy dataframe with an x variable that\n",
    "follows a normal distribution and shows a linear relationship with a y variable."
   ]
  },
  {
   "cell_type": "code",
   "execution_count": 2,
   "id": "ae8a748b",
   "metadata": {},
   "outputs": [],
   "source": [
    "np.random.seed(29)\n",
    "x = np.random.randn(200)"
   ]
  },
  {
   "cell_type": "code",
   "execution_count": 3,
   "id": "b6744e3c",
   "metadata": {},
   "outputs": [],
   "source": [
    "# Create a y variable that is linearly related to x with some added random noise\n",
    "y = x * 10 + np.random.randn(200)*2"
   ]
  },
  {
   "cell_type": "code",
   "execution_count": 4,
   "id": "be353e5f",
   "metadata": {},
   "outputs": [],
   "source": [
    "# create  a dataframe\n",
    "data = pd.DataFrame([x,y]).T\n",
    "data.columns = ['X','Y']"
   ]
  },
  {
   "cell_type": "code",
   "execution_count": 5,
   "id": "580447ef",
   "metadata": {},
   "outputs": [
    {
     "data": {
      "text/html": [
       "<div>\n",
       "<style scoped>\n",
       "    .dataframe tbody tr th:only-of-type {\n",
       "        vertical-align: middle;\n",
       "    }\n",
       "\n",
       "    .dataframe tbody tr th {\n",
       "        vertical-align: top;\n",
       "    }\n",
       "\n",
       "    .dataframe thead th {\n",
       "        text-align: right;\n",
       "    }\n",
       "</style>\n",
       "<table border=\"1\" class=\"dataframe\">\n",
       "  <thead>\n",
       "    <tr style=\"text-align: right;\">\n",
       "      <th></th>\n",
       "      <th>X</th>\n",
       "      <th>Y</th>\n",
       "    </tr>\n",
       "  </thead>\n",
       "  <tbody>\n",
       "    <tr>\n",
       "      <th>0</th>\n",
       "      <td>-0.417482</td>\n",
       "      <td>-1.271561</td>\n",
       "    </tr>\n",
       "    <tr>\n",
       "      <th>1</th>\n",
       "      <td>0.706032</td>\n",
       "      <td>7.990600</td>\n",
       "    </tr>\n",
       "    <tr>\n",
       "      <th>2</th>\n",
       "      <td>1.915985</td>\n",
       "      <td>19.848687</td>\n",
       "    </tr>\n",
       "    <tr>\n",
       "      <th>3</th>\n",
       "      <td>-2.141755</td>\n",
       "      <td>-21.928903</td>\n",
       "    </tr>\n",
       "    <tr>\n",
       "      <th>4</th>\n",
       "      <td>0.719057</td>\n",
       "      <td>5.579070</td>\n",
       "    </tr>\n",
       "  </tbody>\n",
       "</table>\n",
       "</div>"
      ],
      "text/plain": [
       "          X          Y\n",
       "0 -0.417482  -1.271561\n",
       "1  0.706032   7.990600\n",
       "2  1.915985  19.848687\n",
       "3 -2.141755 -21.928903\n",
       "4  0.719057   5.579070"
      ]
     },
     "execution_count": 5,
     "metadata": {},
     "output_type": "execute_result"
    }
   ],
   "source": [
    "data.head()"
   ]
  },
  {
   "cell_type": "code",
   "execution_count": 6,
   "id": "3491f815",
   "metadata": {},
   "outputs": [
    {
     "data": {
      "text/plain": [
       "<seaborn.axisgrid.FacetGrid at 0x7feb325bbfd0>"
      ]
     },
     "execution_count": 6,
     "metadata": {},
     "output_type": "execute_result"
    },
    {
     "data": {
      "image/png": "[encoded data removed]",
      "text/plain": [
       "<Figure size 360x360 with 1 Axes>"
      ]
     },
     "metadata": {
      "needs_background": "light"
     },
     "output_type": "display_data"
    }
   ],
   "source": [
    "# Plot a scatter plot to visualize the linear relationship:\n",
    "sns.lmplot(x = 'X',y = 'Y', data=data,order=1)"
   ]
  },
  {
   "cell_type": "markdown",
   "id": "3f40ec09",
   "metadata": {},
   "source": [
    "To evaluate the linear relationship using residual plots, we need to carry out a\n",
    "few more steps."
   ]
  },
  {
   "cell_type": "code",
   "execution_count": 7,
   "id": "671a60c0",
   "metadata": {},
   "outputs": [
    {
     "data": {
      "text/plain": [
       "LinearRegression()"
      ]
     },
     "execution_count": 7,
     "metadata": {},
     "output_type": "execute_result"
    }
   ],
   "source": [
    "# Build a linear regression model between x and y:\n",
    "from sklearn.linear_model import LinearRegression\n",
    "linreg = LinearRegression()\n",
    "linreg.fit(data['X'].to_frame(),data['Y'])"
   ]
  },
  {
   "cell_type": "markdown",
   "id": "22a3134b",
   "metadata": {},
   "source": [
    "**`TIP:`**:Scikit-learn predictor classes do not take pandas Series as arguments.\n",
    "Because **data['x']** is a pandas Series, we need to convert it into a\n",
    "dataframe using **to_frame().**"
   ]
  },
  {
   "cell_type": "code",
   "execution_count": 8,
   "id": "ee3a4c0f",
   "metadata": {},
   "outputs": [],
   "source": [
    "# Make predictions of y using the fitted linear model:\n",
    "predictions = linreg.predict(data['X'].to_frame())"
   ]
  },
  {
   "cell_type": "code",
   "execution_count": 9,
   "id": "7623c28b",
   "metadata": {},
   "outputs": [],
   "source": [
    "# Calculate the residuals, that is, the difference between the predictions and the real outcome, y:\n",
    "residuals = data['Y'] - predictions"
   ]
  },
  {
   "cell_type": "code",
   "execution_count": 10,
   "id": "725fe865",
   "metadata": {},
   "outputs": [
    {
     "data": {
      "text/plain": [
       "Text(0.5, 0, 'Independent variable x')"
      ]
     },
     "execution_count": 10,
     "metadata": {},
     "output_type": "execute_result"
    },
    {
     "data": {
      "image/png": "[encoded data removed]",
      "text/plain": [
       "<Figure size 432x288 with 1 Axes>"
      ]
     },
     "metadata": {
      "needs_background": "light"
     },
     "output_type": "display_data"
    }
   ],
   "source": [
    "#Make a scatter plot of the independent variable x and the residuals\n",
    "plt.scatter(y=residuals, x=data['X'])\n",
    "plt.ylabel('Residuals')\n",
    "plt.xlabel('Independent variable x')"
   ]
  },
  {
   "cell_type": "code",
   "execution_count": 11,
   "id": "fb9707eb",
   "metadata": {},
   "outputs": [
    {
     "data": {
      "text/plain": [
       "Text(0.5, 0, 'Residuals')"
      ]
     },
     "execution_count": 11,
     "metadata": {},
     "output_type": "execute_result"
    },
    {
     "data": {
      "image/png": "[encoded data removed]",
      "text/plain": [
       "<Figure size 432x288 with 1 Axes>"
      ]
     },
     "metadata": {
      "needs_background": "light"
     },
     "output_type": "display_data"
    }
   ],
   "source": [
    "# Finally, let's evaluate the distribution of the residuals\n",
    "sns.distplot(residuals, bins=30)\n",
    "plt.xlabel('Residuals')"
   ]
  },
  {
   "cell_type": "markdown",
   "id": "58fbef1c",
   "metadata": {},
   "source": [
    "In the following output, we can see that the residuals are normally distributed and centered\n",
    "around zero:"
   ]
  },
  {
   "cell_type": "code",
   "execution_count": null,
   "id": "3a2adc3c",
   "metadata": {},
   "outputs": [],
   "source": []
  }
 ],
 "metadata": {
  "kernelspec": {
   "display_name": "Python 3",
   "language": "python",
   "name": "python3"
  },
  "language_info": {
   "codemirror_mode": {
    "name": "ipython",
    "version": 3
   },
   "file_extension": ".py",
   "mimetype": "text/x-python",
   "name": "python",
   "nbconvert_exporter": "python",
   "pygments_lexer": "ipython3",
   "version": "3.8.8"
  }
 },
 "nbformat": 4,
 "nbformat_minor": 5
}
