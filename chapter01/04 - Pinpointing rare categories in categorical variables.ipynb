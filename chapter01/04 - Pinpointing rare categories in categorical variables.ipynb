{
 "cells": [
  {
   "cell_type": "markdown",
   "id": "909628a2",
   "metadata": {},
   "source": [
    "## Pinpointing rare categories in categorical variables"
   ]
  },
  {
   "cell_type": "markdown",
   "id": "d9987ab2",
   "metadata": {},
   "source": [
    "Different labels appear in a variable with different frequencies. Some categories of a\n",
    "variable appear a lot, that is, they are very common among the observations, whereas other\n",
    "categories appear only in a few observations. In fact, categorical variables often contain a\n",
    "few dominant labels that account for the majority of the observations and a large number of\n",
    "labels that appear only seldom. Categories that appear in a tiny proportion of the\n",
    "observations are rare. Typically, we consider a label to be rare when it appears in less than\n",
    "5% or 1% of the population.so here we will learn how to identify infrequent labels in\n",
    "a categorical variable."
   ]
  },
  {
   "cell_type": "markdown",
   "id": "045132f0",
   "metadata": {},
   "source": [
    "**Data set:** Car Evaluation dataset from the UCI Machine Learning Repository"
   ]
  },
  {
   "cell_type": "code",
   "execution_count": 1,
   "id": "d01555a0",
   "metadata": {},
   "outputs": [],
   "source": [
    "# Importing the python libraries\n",
    "import pandas as pd\n",
    "import matplotlib.pyplot as plt"
   ]
  },
  {
   "cell_type": "code",
   "execution_count": 2,
   "id": "dcb011fb",
   "metadata": {},
   "outputs": [
    {
     "data": {
      "text/html": [
       "<div>\n",
       "<style scoped>\n",
       "    .dataframe tbody tr th:only-of-type {\n",
       "        vertical-align: middle;\n",
       "    }\n",
       "\n",
       "    .dataframe tbody tr th {\n",
       "        vertical-align: top;\n",
       "    }\n",
       "\n",
       "    .dataframe thead th {\n",
       "        text-align: right;\n",
       "    }\n",
       "</style>\n",
       "<table border=\"1\" class=\"dataframe\">\n",
       "  <thead>\n",
       "    <tr style=\"text-align: right;\">\n",
       "      <th></th>\n",
       "      <th>buying</th>\n",
       "      <th>maint</th>\n",
       "      <th>doors</th>\n",
       "      <th>persons</th>\n",
       "      <th>lug_boot</th>\n",
       "      <th>safety</th>\n",
       "      <th>class</th>\n",
       "    </tr>\n",
       "  </thead>\n",
       "  <tbody>\n",
       "    <tr>\n",
       "      <th>0</th>\n",
       "      <td>vhigh</td>\n",
       "      <td>vhigh</td>\n",
       "      <td>2</td>\n",
       "      <td>2</td>\n",
       "      <td>small</td>\n",
       "      <td>low</td>\n",
       "      <td>unacc</td>\n",
       "    </tr>\n",
       "    <tr>\n",
       "      <th>1</th>\n",
       "      <td>vhigh</td>\n",
       "      <td>vhigh</td>\n",
       "      <td>2</td>\n",
       "      <td>2</td>\n",
       "      <td>small</td>\n",
       "      <td>med</td>\n",
       "      <td>unacc</td>\n",
       "    </tr>\n",
       "    <tr>\n",
       "      <th>2</th>\n",
       "      <td>vhigh</td>\n",
       "      <td>vhigh</td>\n",
       "      <td>2</td>\n",
       "      <td>2</td>\n",
       "      <td>small</td>\n",
       "      <td>high</td>\n",
       "      <td>unacc</td>\n",
       "    </tr>\n",
       "    <tr>\n",
       "      <th>3</th>\n",
       "      <td>vhigh</td>\n",
       "      <td>vhigh</td>\n",
       "      <td>2</td>\n",
       "      <td>2</td>\n",
       "      <td>med</td>\n",
       "      <td>low</td>\n",
       "      <td>unacc</td>\n",
       "    </tr>\n",
       "    <tr>\n",
       "      <th>4</th>\n",
       "      <td>vhigh</td>\n",
       "      <td>vhigh</td>\n",
       "      <td>2</td>\n",
       "      <td>2</td>\n",
       "      <td>med</td>\n",
       "      <td>med</td>\n",
       "      <td>unacc</td>\n",
       "    </tr>\n",
       "  </tbody>\n",
       "</table>\n",
       "</div>"
      ],
      "text/plain": [
       "  buying  maint doors persons lug_boot safety  class\n",
       "0  vhigh  vhigh     2       2    small    low  unacc\n",
       "1  vhigh  vhigh     2       2    small    med  unacc\n",
       "2  vhigh  vhigh     2       2    small   high  unacc\n",
       "3  vhigh  vhigh     2       2      med    low  unacc\n",
       "4  vhigh  vhigh     2       2      med    med  unacc"
      ]
     },
     "execution_count": 2,
     "metadata": {},
     "output_type": "execute_result"
    }
   ],
   "source": [
    "# load the dataset\n",
    "\n",
    "data = pd.read_csv('data/car.data',header=None)\n",
    "data.columns =  ['buying', 'maint', 'doors', 'persons', 'lug_boot','safety', 'class']\n",
    "data.head()"
   ]
  },
  {
   "cell_type": "markdown",
   "id": "ff10caa1",
   "metadata": {},
   "source": [
    "**`TIP`:** By default, pandas read_csv() uses the first row of the data as the\n",
    "column names. If the column names are not part of the raw data, we need\n",
    "to specifically tell pandas not to assign the column names by adding the\n",
    "header = None argument."
   ]
  },
  {
   "cell_type": "code",
   "execution_count": 4,
   "id": "72cd33d6",
   "metadata": {},
   "outputs": [
    {
     "data": {
      "text/plain": [
       "array(['unacc', 'acc', 'vgood', 'good'], dtype=object)"
      ]
     },
     "execution_count": 4,
     "metadata": {},
     "output_type": "execute_result"
    }
   ],
   "source": [
    "# Let's display the unique categories of the variable class\n",
    "data['class'].unique()"
   ]
  },
  {
   "cell_type": "markdown",
   "id": "c8cc99fb",
   "metadata": {},
   "source": [
    "Let's calculate the number of cars per category of the class variable and then\n",
    "divide them by the total number of cars in the dataset to obtain the percentage of\n",
    "cars per category."
   ]
  },
  {
   "cell_type": "code",
   "execution_count": 5,
   "id": "3d88c8bc",
   "metadata": {},
   "outputs": [
    {
     "data": {
      "text/plain": [
       "unacc    0.700231\n",
       "acc      0.222222\n",
       "good     0.039931\n",
       "vgood    0.037616\n",
       "Name: class, dtype: float64"
      ]
     },
     "execution_count": 5,
     "metadata": {},
     "output_type": "execute_result"
    }
   ],
   "source": [
    "label_freq = data['class'].value_counts()/ len(data)\n",
    "label_freq"
   ]
  },
  {
   "cell_type": "markdown",
   "id": "093eadb6",
   "metadata": {},
   "source": [
    "**Observation:** Here we can observe unacc category has more frequency compared with other categories. we can also plot using matplotlib."
   ]
  },
  {
   "cell_type": "markdown",
   "id": "d8b1c21a",
   "metadata": {},
   "source": [
    "Let's make a bar plot showing the frequency of each category and highlight the\n",
    "5% mark with a red line:"
   ]
  },
  {
   "cell_type": "code",
   "execution_count": 6,
   "id": "b070e0be",
   "metadata": {},
   "outputs": [
    {
     "data": {
      "image/png": "[encoded data removed]",
      "text/plain": [
       "<Figure size 432x288 with 1 Axes>"
      ]
     },
     "metadata": {
      "needs_background": "light"
     },
     "output_type": "display_data"
    }
   ],
   "source": [
    "fig = label_freq.sort_values(ascending=False).plot.bar()\n",
    "fig.axhline(y=0.05, color='red')\n",
    "fig.set_ylabel('percentage of cars within each category')\n",
    "fig.set_xlabel('Variable: class')\n",
    "fig.set_title('Identifying Rare Categories')\n",
    "plt.show()"
   ]
  },
  {
   "cell_type": "markdown",
   "id": "2cbad414",
   "metadata": {},
   "source": [
    "The good and vgood categories are present in less than 5% of cars, as indicated by the red\n",
    "line in the preceding plot."
   ]
  },
  {
   "cell_type": "code",
   "execution_count": null,
   "id": "4a9d9294",
   "metadata": {},
   "outputs": [],
   "source": []
  }
 ],
 "metadata": {
  "kernelspec": {
   "display_name": "Python 3",
   "language": "python",
   "name": "python3"
  },
  "language_info": {
   "codemirror_mode": {
    "name": "ipython",
    "version": 3
   },
   "file_extension": ".py",
   "mimetype": "text/x-python",
   "name": "python",
   "nbconvert_exporter": "python",
   "pygments_lexer": "ipython3",
   "version": "3.8.8"
  }
 },
 "nbformat": 4,
 "nbformat_minor": 5
}
